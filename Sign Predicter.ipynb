{
 "cells": [
  {
   "cell_type": "code",
   "execution_count": 6,
   "id": "8307dc89",
   "metadata": {},
   "outputs": [],
   "source": [
    "import tensorflow as tf\n",
    "from tensorflow.keras import layers, models\n",
    "from sklearn.model_selection import train_test_split\n",
    "from sklearn.preprocessing import LabelEncoder\n",
    "from tensorflow.keras.utils import to_categorical\n",
    "from tensorflow.keras.preprocessing.image import ImageDataGenerator\n",
    "import matplotlib.pyplot as plt\n",
    "import os\n",
    "import cv2\n",
    "import numpy as np"
   ]
  },
  {
   "cell_type": "code",
   "execution_count": 12,
   "id": "838f7b96",
   "metadata": {},
   "outputs": [],
   "source": [
    "data_dir = r\"G:\\Numbers\""
   ]
  },
  {
   "cell_type": "code",
   "execution_count": 13,
   "id": "994337cb",
   "metadata": {},
   "outputs": [],
   "source": [
    "classes = os.listdir(data_dir)"
   ]
  },
  {
   "cell_type": "code",
   "execution_count": 14,
   "id": "6d2952f2",
   "metadata": {},
   "outputs": [],
   "source": [
    "image_list = []\n",
    "label_list = []"
   ]
  },
  {
   "cell_type": "code",
   "execution_count": 15,
   "id": "1df3266b",
   "metadata": {},
   "outputs": [],
   "source": [
    "for class_name in classes:\n",
    "    class_path = os.path.join(data_dir, class_name)\n",
    "    for img_name in os.listdir(class_path)[:]:  # Limit to the first 1200 images per class\n",
    "        img_path = os.path.join(class_path, img_name)\n",
    "        img = cv2.imread(img_path)\n",
    "\n",
    "        if img is not None:\n",
    "            img = cv2.resize(img, (64, 64))  # Resize the images to a common size\n",
    "            image_list.append(img)\n",
    "            label_list.append(int(class_name)) "
   ]
  },
  {
   "cell_type": "code",
   "execution_count": 16,
   "id": "fe32c632",
   "metadata": {},
   "outputs": [],
   "source": [
    "images = np.array(image_list)\n",
    "labels = np.array(label_list)"
   ]
  },
  {
   "cell_type": "code",
   "execution_count": 17,
   "id": "4635181c",
   "metadata": {},
   "outputs": [],
   "source": [
    "labels_one_hot = to_categorical(labels - 1, num_classes=len(classes))  # Subtract 1 to make labels start from 0\n",
    "\n"
   ]
  },
  {
   "cell_type": "code",
   "execution_count": 18,
   "id": "3dfd5c7e",
   "metadata": {},
   "outputs": [],
   "source": [
    "X_train, X_test, y_train, y_test = train_test_split(images, labels_one_hot, test_size=0.2, random_state=42)\n"
   ]
  },
  {
   "cell_type": "code",
   "execution_count": 19,
   "id": "bc5fc346",
   "metadata": {},
   "outputs": [],
   "source": [
    "model = models.Sequential()\n",
    "model.add(layers.Conv2D(32, (3, 3), activation='relu', input_shape=(64, 64, 3)))\n",
    "model.add(layers.MaxPooling2D((2, 2)))\n",
    "model.add(layers.Conv2D(64, (3, 3), activation='relu'))\n",
    "model.add(layers.MaxPooling2D((2, 2)))\n",
    "model.add(layers.Flatten())\n",
    "model.add(layers.Dropout(0.8)) \n",
    "model.add(layers.Dense(64, activation='relu',kernel_regularizer='l2'))\n",
    "model.add(layers.Dense(len(classes), activation='softmax'))\n"
   ]
  },
  {
   "cell_type": "code",
   "execution_count": 20,
   "id": "e4b3ae07",
   "metadata": {},
   "outputs": [],
   "source": [
    "model.compile(optimizer='adam', loss='categorical_crossentropy', metrics=['accuracy'])"
   ]
  },
  {
   "cell_type": "code",
   "execution_count": 21,
   "id": "f0d63062",
   "metadata": {},
   "outputs": [],
   "source": [
    "datagen = ImageDataGenerator(\n",
    "    rotation_range=30,\n",
    "    width_shift_range=0.3,\n",
    "    height_shift_range=0.3,\n",
    "    shear_range=0.3,\n",
    "    zoom_range=0.3,\n",
    "    horizontal_flip=True,\n",
    "    fill_mode='nearest'\n",
    ")"
   ]
  },
  {
   "cell_type": "code",
   "execution_count": 22,
   "id": "22f09e8b",
   "metadata": {},
   "outputs": [],
   "source": [
    "datagen.fit(X_train)"
   ]
  },
  {
   "cell_type": "code",
   "execution_count": 26,
   "id": "e8c07d88",
   "metadata": {},
   "outputs": [
    {
     "name": "stdout",
     "output_type": "stream",
     "text": [
      "Epoch 1/3\n",
      "270/270 [==============================] - 64s 237ms/step - loss: 0.9472 - accuracy: 0.8963 - val_loss: 0.6086 - val_accuracy: 1.0000\n",
      "Epoch 2/3\n",
      "270/270 [==============================] - 64s 239ms/step - loss: 0.7916 - accuracy: 0.9117 - val_loss: 1.0111 - val_accuracy: 0.8296\n",
      "Epoch 3/3\n",
      "270/270 [==============================] - 64s 239ms/step - loss: 0.7395 - accuracy: 0.9149 - val_loss: 0.7070 - val_accuracy: 0.9019\n"
     ]
    },
    {
     "data": {
      "text/plain": [
       "<tensorflow.python.keras.callbacks.History at 0x205868e4520>"
      ]
     },
     "execution_count": 26,
     "metadata": {},
     "output_type": "execute_result"
    }
   ],
   "source": [
    "model.fit(datagen.flow(X_train, y_train, batch_size=32), epochs=3, validation_data=(X_test, y_test))"
   ]
  },
  {
   "cell_type": "code",
   "execution_count": 27,
   "id": "dcac65ec",
   "metadata": {},
   "outputs": [
    {
     "name": "stdout",
     "output_type": "stream",
     "text": [
      "68/68 [==============================] - 4s 61ms/step - loss: 0.7070 - accuracy: 0.9019\n",
      "\n",
      "Test Accuracy: 90.19%\n"
     ]
    }
   ],
   "source": [
    "test_loss, test_accuracy = model.evaluate(X_test, y_test)\n",
    "print(f\"\\nTest Accuracy: {test_accuracy * 100:.2f}%\")"
   ]
  }
 ],
 "metadata": {
  "kernelspec": {
   "display_name": "Python 3",
   "language": "python",
   "name": "python3"
  },
  "language_info": {
   "codemirror_mode": {
    "name": "ipython",
    "version": 3
   },
   "file_extension": ".py",
   "mimetype": "text/x-python",
   "name": "python",
   "nbconvert_exporter": "python",
   "pygments_lexer": "ipython3",
   "version": "3.8.8"
  }
 },
 "nbformat": 4,
 "nbformat_minor": 5
}
